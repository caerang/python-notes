{
 "cells": [
  {
   "cell_type": "code",
   "execution_count": 1,
   "metadata": {},
   "outputs": [],
   "source": [
    "# Dictionary 관련 활용하기"
   ]
  },
  {
   "attachments": {},
   "cell_type": "markdown",
   "metadata": {},
   "source": [
    "## Dictionary에 키가 있는지 확인하기"
   ]
  },
  {
   "attachments": {},
   "cell_type": "markdown",
   "metadata": {},
   "source": [
    "**문법**\n",
    "\n",
    "```python\n",
    "\n",
    "key not in dictionary\n",
    "```\n",
    "\n",
    "**예제**\n",
    "\n",
    "annotations dictionary에 img_id key가 없으면 img_id를 새로운 키로 생성하고 초기화 한다."
   ]
  },
  {
   "cell_type": "code",
   "execution_count": 5,
   "metadata": {},
   "outputs": [
    {
     "ename": "TypeError",
     "evalue": "string indices must be integers",
     "output_type": "error",
     "traceback": [
      "\u001b[0;31m---------------------------------------------------------------------------\u001b[0m",
      "\u001b[0;31mTypeError\u001b[0m                                 Traceback (most recent call last)",
      "Cell \u001b[0;32mIn[5], line 6\u001b[0m\n\u001b[1;32m      4\u001b[0m annotations \u001b[39m=\u001b[39m {}\n\u001b[1;32m      5\u001b[0m \u001b[39mfor\u001b[39;00m annotation \u001b[39min\u001b[39;00m data[\u001b[39m'\u001b[39m\u001b[39mannotations\u001b[39m\u001b[39m'\u001b[39m]:\n\u001b[0;32m----> 6\u001b[0m     img_id \u001b[39m=\u001b[39m annotation[\u001b[39m'\u001b[39;49m\u001b[39mimg_id\u001b[39;49m\u001b[39m'\u001b[39;49m]\n\u001b[1;32m      7\u001b[0m     \u001b[39mif\u001b[39;00m img_id \u001b[39mnot\u001b[39;00m \u001b[39min\u001b[39;00m annotations:\n\u001b[1;32m      8\u001b[0m         annotations[img_id] \u001b[39m=\u001b[39m []\n",
      "\u001b[0;31mTypeError\u001b[0m: string indices must be integers"
     ]
    }
   ],
   "source": [
    "# data는 이미 구성되어 있다고 가정\n",
    "data = {'annotations':[{'img_id': '00001'},]}\n",
    "\n",
    "annotations = {}\n",
    "for annotation in data['annotations']:\n",
    "    img_id = annotation['img_id']\n",
    "    if img_id not in annotations:\n",
    "        annotations[img_id] = []\n",
    "\n",
    "    annotations[img_id].append(annotation)\n",
    "\n",
    "print(annotations)\n"
   ]
  }
 ],
 "metadata": {
  "kernelspec": {
   "display_name": "python",
   "language": "python",
   "name": "python3"
  },
  "language_info": {
   "codemirror_mode": {
    "name": "ipython",
    "version": 3
   },
   "file_extension": ".py",
   "mimetype": "text/x-python",
   "name": "python",
   "nbconvert_exporter": "python",
   "pygments_lexer": "ipython3",
   "version": "3.10.8"
  },
  "orig_nbformat": 4
 },
 "nbformat": 4,
 "nbformat_minor": 2
}
