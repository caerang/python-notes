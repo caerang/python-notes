{
 "cells": [
  {
   "cell_type": "code",
   "execution_count": 1,
   "metadata": {},
   "outputs": [],
   "source": [
    "# Dictionary 관련 활용하기"
   ]
  },
  {
   "attachments": {},
   "cell_type": "markdown",
   "metadata": {},
   "source": [
    "## Dictionary에 키가 있는지 확인하기"
   ]
  },
  {
   "attachments": {},
   "cell_type": "markdown",
   "metadata": {},
   "source": [
    "**문법**\n",
    "\n",
    "```python\n",
    "\n",
    "key not in dictionary\n",
    "```\n",
    "\n",
    "**예제**\n",
    "\n",
    "annotations dictionary에 img_id key가 없으면 img_id를 새로운 키로 생성하고 초기화 한다."
   ]
  },
  {
   "cell_type": "code",
   "execution_count": 7,
   "metadata": {},
   "outputs": [
    {
     "name": "stdout",
     "output_type": "stream",
     "text": [
      "{'00001': {'img_id': '00001'}}\n"
     ]
    }
   ],
   "source": [
    "# data는 이미 구성되어 있다고 가정\n",
    "data = {'annotations':[{'img_id': '00001'},]}\n",
    "\n",
    "annotations = {}\n",
    "for annotation in data['annotations']:\n",
    "    img_id = annotation['img_id']\n",
    "    if img_id not in annotations:\n",
    "        annotations[img_id] = annotation\n",
    "\n",
    "#    annotations[img_id].append(annotation)\n",
    "\n",
    "print(annotations)\n"
   ]
  }
 ],
 "metadata": {
  "kernelspec": {
   "display_name": "python",
   "language": "python",
   "name": "python3"
  },
  "language_info": {
   "codemirror_mode": {
    "name": "ipython",
    "version": 3
   },
   "file_extension": ".py",
   "mimetype": "text/x-python",
   "name": "python",
   "nbconvert_exporter": "python",
   "pygments_lexer": "ipython3",
   "version": "3.10.8"
  },
  "orig_nbformat": 4
 },
 "nbformat": 4,
 "nbformat_minor": 2
}
