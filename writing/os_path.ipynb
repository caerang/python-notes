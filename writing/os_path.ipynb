{
 "cells": [
  {
   "cell_type": "markdown",
   "metadata": {},
   "source": [
    "# os.path 라이브러리"
   ]
  },
  {
   "cell_type": "code",
   "execution_count": 3,
   "metadata": {},
   "outputs": [],
   "source": [
    "import os.path as osp"
   ]
  },
  {
   "cell_type": "code",
   "execution_count": 8,
   "metadata": {},
   "outputs": [
    {
     "name": "stdout",
     "output_type": "stream",
     "text": [
      "결과:  train.py\n",
      "결과:  tools\n",
      "결과:  \n"
     ]
    }
   ],
   "source": [
    "FILE_PATH = '/home/caerang/workspace/yolov6/tools/train.py'\n",
    "DIR_PATH1 = '/home/caerang/workspace/yolov6/tools'\n",
    "DIR_PATH2 = '/home/caerang/workspace/yolov6/tools/'\n",
    "\n",
    "# PATH가 파일인 경우\n",
    "print('결과: ', osp.basename(FILE_PATH))\n",
    "\n",
    "# PATH가 디렉토리인 경우\n",
    "print('결과: ', osp.basename(DIR_PATH1))\n",
    "\n",
    "# PATH가 디렉토리인 경우\n",
    "print('결과: ', osp.basename(DIR_PATH2))"
   ]
  },
  {
   "cell_type": "code",
   "execution_count": 9,
   "metadata": {},
   "outputs": [
    {
     "name": "stdout",
     "output_type": "stream",
     "text": [
      "결과:  /home/caerang/workspace/yolov6/tools\n",
      "결과:  /home/caerang/workspace/yolov6\n",
      "결과:  /home/caerang/workspace/yolov6/tools\n"
     ]
    }
   ],
   "source": [
    "FILE_PATH = '/home/caerang/workspace/yolov6/tools/train.py'\n",
    "DIR_PATH1 = '/home/caerang/workspace/yolov6/tools'\n",
    "DIR_PATH2 = '/home/caerang/workspace/yolov6/tools/'\n",
    "\n",
    "# PATH가 파일인 경우\n",
    "print('결과: ', osp.dirname(FILE_PATH))\n",
    "\n",
    "# PATH가 디렉토리인 경우\n",
    "print('결과: ', osp.dirname(DIR_PATH1))\n",
    "\n",
    "# PATH가 디렉토리인 경우\n",
    "print('결과: ', osp.dirname(DIR_PATH2))"
   ]
  }
 ],
 "metadata": {
  "kernelspec": {
   "display_name": "Python 3.9.6 ('jbook')",
   "language": "python",
   "name": "python3"
  },
  "language_info": {
   "codemirror_mode": {
    "name": "ipython",
    "version": 3
   },
   "file_extension": ".py",
   "mimetype": "text/x-python",
   "name": "python",
   "nbconvert_exporter": "python",
   "pygments_lexer": "ipython3",
   "version": "3.9.6"
  },
  "orig_nbformat": 4,
  "vscode": {
   "interpreter": {
    "hash": "e8b40d1617b7c75fa172a685c3ad52abbf72c7b54354e405a0da4dd8e25974c4"
   }
  }
 },
 "nbformat": 4,
 "nbformat_minor": 2
}
