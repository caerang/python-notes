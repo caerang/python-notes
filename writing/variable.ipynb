{
 "cells": [
  {
   "cell_type": "markdown",
   "metadata": {},
   "source": [
    "# 변수(Variable)\n",
    "\n",
    "변수는 값(데이터)을 저장하기 위한 메모리 위치에 이름을 지어주는 것이다. 아파트 단지에 있는 무인 택배함을 생각하면 변수의 기능과 역할을 이해하기 쉽다. 무인 택배함은 모두 30개가 있고 6행 5열로 쌓여 있다. 그런데, 택배함을 구별할 수 있는 어떤 표시도 되어 있지 않다. 택배함을 구별할 수 있는 유일한 방법은 택배함의 위치이다. 택배 배달원은 물건을 택배함에 보관 후 그 위치를 택배 주인에게 알려 주어야 택배 주인이 물건을 찾을 수 있다. \"택배를 6행 3열에 보관 두었습니다.\"라고 전달하는 것은 뭐가 불편한 느낌이 듭니다. 배달원이 물건을 5행 3열에 보관 했는데, 착각해서 \"6행 3열\"에 보관했다고 전달하면 배달 사고가 발생할 수도 있습니다. 반대로 사용자가 택배 물건을 반송해야 하는 경우도 비슷한 상황이 발생할 수 있습니다.\n",
    "\n",
    "현실에서 30개의 택배함이라면 이런 배달 사고가 발생할 가능성은 아주 낮지만 컴퓨터가 사용하는 메모리는 일상에서 쉽게 생각할 수 있는 것 이상으로 많은 메모리 공간을 사용합니다. 8GB 메모리를 사용하는 컴퓨터라고 하면 4BYTE의 데이터(택배함 하나의 크기라고 생각하면 됩니다.)를 저장할 수 있는 공간은 4 * 1024 * 1024 * 1024(Byte, Kilo Byte, Mega Byte, Giga Byte)= 나 됩니다. 어느 공간에 데이터를 저장하고 있고, 어디에 저장되어 있는 데이터를 가져와야 하는지 혼란합니다. 이런 혼란함을 해소하기 위해 변수를 사용합니다.\n",
    "\n",
    "변수는 값(데이터)을 저장하는 역할을 합니다. 우리는 프로그래밍을 하면서 필요한 값을 변수에 저장하거나 변수에 저장되어 있는 값을 가지고 와서 계산에 사용할 수 있습니다."
   ]
  },
  {
   "cell_type": "markdown",
   "metadata": {},
   "source": [
    "## 변수에 값 저장하기(대입하기)"
   ]
  },
  {
   "cell_type": "markdown",
   "metadata": {},
   "source": [
    "코드를 작성할 때 변수는 어떻게 사용해야 할까? 먼저 다음 코드를 실행해 보자."
   ]
  },
  {
   "cell_type": "code",
   "execution_count": 2,
   "metadata": {},
   "outputs": [
    {
     "ename": "NameError",
     "evalue": "name 'sales_quantity' is not defined",
     "output_type": "error",
     "traceback": [
      "\u001b[0;31m---------------------------------------------------------------------------\u001b[0m",
      "\u001b[0;31mNameError\u001b[0m                                 Traceback (most recent call last)",
      "Cell \u001b[0;32mIn[2], line 1\u001b[0m\n\u001b[0;32m----> 1\u001b[0m sales_quantity \u001b[38;5;241m=\u001b[39m \u001b[43msales_quantity\u001b[49m \u001b[38;5;241m+\u001b[39m \u001b[38;5;241m1\u001b[39m\n",
      "\u001b[0;31mNameError\u001b[0m: name 'sales_quantity' is not defined"
     ]
    }
   ],
   "source": [
    "sales_quantity = sales_quantity + 1"
   ]
  },
  {
   "cell_type": "markdown",
   "metadata": {},
   "source": [
    "\"NameError: name 'sales_quantity' is not defined 라는 오류가 발생했다. `sales_quantity`라는 변수가 정의되지 않은 상태에서 사용했기 때문에 사용한 변수가 정의되지 않았다는 메시지를 출력해서 개발자에게 오류를 알려 주는 것이다. 변수는 사용하기 전에 어떤 변수를 사용할 것인지 정의해야 한다."
   ]
  },
  {
   "cell_type": "code",
   "execution_count": 4,
   "metadata": {},
   "outputs": [],
   "source": [
    "message = \"만나서 반갑습니다.\""
   ]
  },
  {
   "cell_type": "markdown",
   "metadata": {},
   "source": [
    "앞의 코드는 `message` 라는 변수를 선언하고 `\"만나서 반갑습니다.\"`라는 값을 변수 `message`에 저장합니다. 여기서 `=` 는 `message`와 `\"만나서 반갑습니다.\"` 가 같다는 뜻이 아니라 `message` 에 `\"만나서 반갑습니다.\"`라는 값을 저장한다는 의미입니다. `\"값을 할당한다.\"` 또는 `\"값을 대입한다\"` 고도 하는데, 모두 같은 말 입니다. 코드를 작성하는 과정에서 `=`과 같이 데이터에 어떤 행위를 하는 것을 연산이라고 한다. 자세한 설명은 연산자를 참고하기 바란다. "
   ]
  },
  {
   "cell_type": "code",
   "execution_count": 3,
   "metadata": {},
   "outputs": [],
   "source": [
    "item_name = \"몽블랑 만년필\"\n",
    "sales_quantity = 0\n",
    "stocks = 10\n"
   ]
  },
  {
   "cell_type": "markdown",
   "metadata": {},
   "source": [
    "위 코드는 item_name 이라는 변수를 선언하고 선언한 변수에 \"몽블랑\"이라는 값을 저장한다. 이렇게 어떤 변수를 사용할 것인지 선언하고 값을 저장하는 것을 변수를 정의한다라고 말한다."
   ]
  },
  {
   "cell_type": "markdown",
   "metadata": {},
   "source": [
    "## 변수에 저장된 값 변경하기\n"
   ]
  },
  {
   "cell_type": "code",
   "execution_count": null,
   "metadata": {},
   "outputs": [],
   "source": [
    "sales_quantity = 5"
   ]
  }
 ],
 "metadata": {
  "kernelspec": {
   "display_name": "pygame",
   "language": "python",
   "name": "python3"
  },
  "language_info": {
   "codemirror_mode": {
    "name": "ipython",
    "version": 3
   },
   "file_extension": ".py",
   "mimetype": "text/x-python",
   "name": "python",
   "nbconvert_exporter": "python",
   "pygments_lexer": "ipython3",
   "version": "3.10.8"
  }
 },
 "nbformat": 4,
 "nbformat_minor": 2
}
