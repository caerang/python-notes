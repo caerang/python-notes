{
 "cells": [
  {
   "attachments": {},
   "cell_type": "markdown",
   "metadata": {},
   "source": [
    "# File/Folder 관련 활용하기"
   ]
  },
  {
   "attachments": {},
   "cell_type": "markdown",
   "metadata": {},
   "source": [
    "## 전체 경로에서 파일 이름과 확장자만 가져오기"
   ]
  },
  {
   "attachments": {},
   "cell_type": "markdown",
   "metadata": {},
   "source": [
    "`전체 경로`에서 파일 이름과 확장자만 반환한다.\n",
    "\n",
    "- Reference: [https://docs.python.org/3/library/os.path.html#os.path.basename](https://docs.python.org/3/library/os.path.html#os.path.basename)"
   ]
  },
  {
   "cell_type": "code",
   "execution_count": 3,
   "metadata": {},
   "outputs": [
    {
     "data": {
      "text/plain": [
       "'setup.py'"
      ]
     },
     "execution_count": 3,
     "metadata": {},
     "output_type": "execute_result"
    }
   ],
   "source": [
    "# os.path.basename('전체 경로')\n",
    "\n",
    "import os\n",
    "# Linux or macOS\n",
    "os.path.basename('/home/user/project/setup.py')"
   ]
  },
  {
   "attachments": {},
   "cell_type": "markdown",
   "metadata": {},
   "source": [
    "## 확장자와 파일 이름 분리하기"
   ]
  },
  {
   "attachments": {},
   "cell_type": "markdown",
   "metadata": {},
   "source": [
    "파일 이름에 절대 경로가 포함되어 있으면 파일 이름에서 확장자와 나머지(절대 경로 포함)로 분리한다."
   ]
  },
  {
   "attachments": {},
   "cell_type": "markdown",
   "metadata": {},
   "source": [
    "- Reference: [https://docs.python.org/3/library/os.path.html#os.path.splitext](https://docs.python.org/3/library/os.path.html#os.path.splitext)"
   ]
  },
  {
   "cell_type": "code",
   "execution_count": 5,
   "metadata": {},
   "outputs": [
    {
     "name": "stdout",
     "output_type": "stream",
     "text": [
      "('setup', '.py')\n",
      "('/home/python/tutorials/setup', '.py')\n",
      "('python/tutorials/splitext', '.py')\n"
     ]
    }
   ],
   "source": [
    "# os.path.splitext('파일 이름')\n",
    "\n",
    "import os\n",
    "# 파일 이름만 있는 경우\n",
    "result = os.path.splitext('setup.py')\n",
    "print(result)\n",
    "\n",
    "# 파일 이름에 절대 경로가 포함된 경우\n",
    "result = os.path.splitext('/home/python/tutorials/setup.py')\n",
    "print(result)\n",
    "\n",
    "# 파일 이름에 상대 경로가 포함된 경우\n",
    "result = os.path.splitext('python/tutorials/splitext.py')\n",
    "print(result)"
   ]
  },
  {
   "attachments": {},
   "cell_type": "markdown",
   "metadata": {},
   "source": [
    "## 특정 위치에 파일 목록 또는 폴더 목록 확인하기"
   ]
  },
  {
   "attachments": {},
   "cell_type": "markdown",
   "metadata": {},
   "source": [
    "Reference: [https://docs.python.org/3/library/os.html?highlight=listdir#os.listdir](https://docs.python.org/3/library/os.html?highlight=listdir#os.listdir)\n",
    "- 파일 목록, 폴더 목록, 숨겨진 폴더를 리스트로 반환한다.\n",
    "- 리스트의 항목의 임의의 순서로 정렬되며 `.` 폴더와 `..` 폴더는 포함하지 않는다."
   ]
  },
  {
   "cell_type": "code",
   "execution_count": 13,
   "metadata": {},
   "outputs": [
    {
     "data": {
      "text/plain": [
       "['home',\n",
       " 'usr',\n",
       " 'bin',\n",
       " 'sbin',\n",
       " '.file',\n",
       " 'etc',\n",
       " 'var',\n",
       " 'Library',\n",
       " 'System',\n",
       " '.VolumeIcon.icns',\n",
       " 'private',\n",
       " '.vol',\n",
       " 'Users',\n",
       " 'Applications',\n",
       " 'opt',\n",
       " 'dev',\n",
       " 'Volumes',\n",
       " 'tmp',\n",
       " 'cores']"
      ]
     },
     "execution_count": 13,
     "metadata": {},
     "output_type": "execute_result"
    }
   ],
   "source": [
    "# os.listdir('파일 또는 폴더')\n",
    "\n",
    "import os\n",
    "os.listdir('/')\n"
   ]
  }
 ],
 "metadata": {
  "kernelspec": {
   "display_name": "python",
   "language": "python",
   "name": "python3"
  },
  "language_info": {
   "codemirror_mode": {
    "name": "ipython",
    "version": 3
   },
   "file_extension": ".py",
   "mimetype": "text/x-python",
   "name": "python",
   "nbconvert_exporter": "python",
   "pygments_lexer": "ipython3",
   "version": "3.10.8"
  },
  "orig_nbformat": 4
 },
 "nbformat": 4,
 "nbformat_minor": 2
}
